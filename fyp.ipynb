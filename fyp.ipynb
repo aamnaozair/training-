{
  "nbformat": 4,
  "nbformat_minor": 0,
  "metadata": {
    "colab": {
      "provenance": [],
      "authorship_tag": "ABX9TyP4XO3Cg16pZwCoPb9emTjX",
      "include_colab_link": true
    },
    "kernelspec": {
      "name": "python3",
      "display_name": "Python 3"
    },
    "language_info": {
      "name": "python"
    }
  },
  "cells": [
    {
      "cell_type": "markdown",
      "metadata": {
        "id": "view-in-github",
        "colab_type": "text"
      },
      "source": [
        "<a href=\"https://colab.research.google.com/github/aamnaozair/training-/blob/main/fyp.ipynb\" target=\"_parent\"><img src=\"https://colab.research.google.com/assets/colab-badge.svg\" alt=\"Open In Colab\"/></a>"
      ]
    },
    {
      "cell_type": "code",
      "source": [
        "!unzip WikiSQL-master.zip"
      ],
      "metadata": {
        "colab": {
          "base_uri": "https://localhost:8080/"
        },
        "id": "f0i5_5jrz7al",
        "outputId": "e86e54dd-7b4b-4ed5-d471-2940bac1b31f"
      },
      "execution_count": 2,
      "outputs": [
        {
          "output_type": "stream",
          "name": "stdout",
          "text": [
            "Archive:  WikiSQL-master.zip\n",
            "0af869a830033f89a026b6c748879e04e1b0e2fc\n",
            "   creating: WikiSQL-master/\n",
            " extracting: WikiSQL-master/.dockerignore  \n",
            " extracting: WikiSQL-master/.gitattributes  \n",
            " extracting: WikiSQL-master/.gitignore  \n",
            "  inflating: WikiSQL-master/.travis.yml  \n",
            "  inflating: WikiSQL-master/CODEOWNERS  \n",
            "  inflating: WikiSQL-master/LICENSE  \n",
            "  inflating: WikiSQL-master/README.md  \n",
            "  inflating: WikiSQL-master/annotate.py  \n",
            "   creating: WikiSQL-master/collection/\n",
            "  inflating: WikiSQL-master/collection/README.md  \n",
            "   creating: WikiSQL-master/collection/paraphrase/\n",
            " extracting: WikiSQL-master/collection/paraphrase/Icon  \n",
            "  inflating: WikiSQL-master/collection/paraphrase/index.html  \n",
            "   creating: WikiSQL-master/collection/paraphrase/paraphrase_files/\n",
            " extracting: WikiSQL-master/collection/paraphrase/paraphrase_files/Icon  \n",
            "  inflating: WikiSQL-master/collection/paraphrase/paraphrase_files/bootstrap.min.css  \n",
            "  inflating: WikiSQL-master/collection/paraphrase/paraphrase_files/bootstrap.min.js  \n",
            "  inflating: WikiSQL-master/collection/paraphrase/paraphrase_files/jquery-3.2.1.min.js  \n",
            "  inflating: WikiSQL-master/collection/paraphrase/paraphrase_files/toastr.min.css  \n",
            "  inflating: WikiSQL-master/collection/paraphrase/paraphrase_files/toastr.min.js  \n",
            "   creating: WikiSQL-master/collection/verify/\n",
            " extracting: WikiSQL-master/collection/verify/Icon  \n",
            "  inflating: WikiSQL-master/collection/verify/verify.html  \n",
            "   creating: WikiSQL-master/collection/verify/verify_files/\n",
            " extracting: WikiSQL-master/collection/verify/verify_files/Icon  \n",
            "  inflating: WikiSQL-master/collection/verify/verify_files/bootstrap.min.css  \n",
            "  inflating: WikiSQL-master/collection/verify/verify_files/bootstrap.min.js  \n",
            "  inflating: WikiSQL-master/collection/verify/verify_files/jquery-3.2.1.min.js  \n",
            "  inflating: WikiSQL-master/collection/verify/verify_files/toastr.min.css  \n",
            "  inflating: WikiSQL-master/collection/verify/verify_files/toastr.min.js  \n",
            "  inflating: WikiSQL-master/data.tar.bz2  \n",
            "  inflating: WikiSQL-master/evaluate.py  \n",
            "   creating: WikiSQL-master/lib/\n",
            " extracting: WikiSQL-master/lib/__init__.py  \n",
            "  inflating: WikiSQL-master/lib/common.py  \n",
            "  inflating: WikiSQL-master/lib/dbengine.py  \n",
            "  inflating: WikiSQL-master/lib/query.py  \n",
            "  inflating: WikiSQL-master/lib/table.py  \n",
            " extracting: WikiSQL-master/requirements.txt  \n",
            "   creating: WikiSQL-master/test/\n",
            "  inflating: WikiSQL-master/test/Dockerfile  \n",
            "  inflating: WikiSQL-master/test/check.py  \n",
            " extracting: WikiSQL-master/test/example.pred.dev.jsonl.bz2  \n",
            " extracting: WikiSQL-master/version.txt  \n"
          ]
        }
      ]
    },
    {
      "cell_type": "code",
      "source": [
        "pip install -r requirements.txt"
      ],
      "metadata": {
        "colab": {
          "base_uri": "https://localhost:8080/"
        },
        "id": "hv14jrEC0_oO",
        "outputId": "35e57456-1f7e-4c09-bf48-e7a8cdc93c84"
      },
      "execution_count": 7,
      "outputs": [
        {
          "output_type": "stream",
          "name": "stdout",
          "text": [
            "Looking in indexes: https://pypi.org/simple, https://us-python.pkg.dev/colab-wheels/public/simple/\n",
            "Requirement already satisfied: tqdm in /usr/local/lib/python3.7/dist-packages (from -r requirements.txt (line 1)) (4.64.1)\n",
            "Collecting records\n",
            "  Downloading records-0.5.3-py2.py3-none-any.whl (10 kB)\n",
            "Requirement already satisfied: babel in /usr/local/lib/python3.7/dist-packages (from -r requirements.txt (line 3)) (2.11.0)\n",
            "Requirement already satisfied: tabulate in /usr/local/lib/python3.7/dist-packages (from -r requirements.txt (line 4)) (0.8.10)\n",
            "Requirement already satisfied: SQLAlchemy in /usr/local/lib/python3.7/dist-packages (from records->-r requirements.txt (line 2)) (1.4.43)\n",
            "Collecting docopt\n",
            "  Downloading docopt-0.6.2.tar.gz (25 kB)\n",
            "Collecting openpyxl<2.5.0\n",
            "  Downloading openpyxl-2.4.11.tar.gz (158 kB)\n",
            "\u001b[K     |████████████████████████████████| 158 kB 7.3 MB/s \n",
            "\u001b[?25hCollecting tablib>=0.11.4\n",
            "  Downloading tablib-3.2.1-py3-none-any.whl (48 kB)\n",
            "\u001b[K     |████████████████████████████████| 48 kB 5.1 MB/s \n",
            "\u001b[?25hCollecting jdcal\n",
            "  Downloading jdcal-1.4.1-py2.py3-none-any.whl (9.5 kB)\n",
            "Requirement already satisfied: et_xmlfile in /usr/local/lib/python3.7/dist-packages (from openpyxl<2.5.0->records->-r requirements.txt (line 2)) (1.1.0)\n",
            "Requirement already satisfied: pytz>=2015.7 in /usr/local/lib/python3.7/dist-packages (from babel->-r requirements.txt (line 3)) (2022.6)\n",
            "Requirement already satisfied: importlib-metadata in /usr/local/lib/python3.7/dist-packages (from SQLAlchemy->records->-r requirements.txt (line 2)) (4.13.0)\n",
            "Requirement already satisfied: greenlet!=0.4.17 in /usr/local/lib/python3.7/dist-packages (from SQLAlchemy->records->-r requirements.txt (line 2)) (2.0.1)\n",
            "Requirement already satisfied: typing-extensions>=3.6.4 in /usr/local/lib/python3.7/dist-packages (from importlib-metadata->SQLAlchemy->records->-r requirements.txt (line 2)) (4.1.1)\n",
            "Requirement already satisfied: zipp>=0.5 in /usr/local/lib/python3.7/dist-packages (from importlib-metadata->SQLAlchemy->records->-r requirements.txt (line 2)) (3.10.0)\n",
            "Building wheels for collected packages: openpyxl, docopt\n",
            "  Building wheel for openpyxl (setup.py) ... \u001b[?25l\u001b[?25hdone\n",
            "  Created wheel for openpyxl: filename=openpyxl-2.4.11-py2.py3-none-any.whl size=222839 sha256=e8ffd7eadabcc9489e75d499f163e2f9ecf065d761d9c09ea77b9025590b1c2e\n",
            "  Stored in directory: /root/.cache/pip/wheels/ee/c3/67/b0c36cbd1242ea70054d400cad5192f02728eb67014192fd85\n",
            "  Building wheel for docopt (setup.py) ... \u001b[?25l\u001b[?25hdone\n",
            "  Created wheel for docopt: filename=docopt-0.6.2-py2.py3-none-any.whl size=13723 sha256=0da3c4d9c9525cf78330521e04519722af7aa25867c8ba49ec79206eec420ecb\n",
            "  Stored in directory: /root/.cache/pip/wheels/72/b0/3f/1d95f96ff986c7dfffe46ce2be4062f38ebd04b506c77c81b9\n",
            "Successfully built openpyxl docopt\n",
            "Installing collected packages: jdcal, tablib, openpyxl, docopt, records\n",
            "  Attempting uninstall: openpyxl\n",
            "    Found existing installation: openpyxl 3.0.10\n",
            "    Uninstalling openpyxl-3.0.10:\n",
            "      Successfully uninstalled openpyxl-3.0.10\n",
            "Successfully installed docopt-0.6.2 jdcal-1.4.1 openpyxl-2.4.11 records-0.5.3 tablib-3.2.1\n"
          ]
        }
      ]
    },
    {
      "cell_type": "code",
      "source": [
        "!tar xvjf data.tar.bz2"
      ],
      "metadata": {
        "colab": {
          "base_uri": "https://localhost:8080/"
        },
        "id": "D6Nz4iII1LtC",
        "outputId": "26cb0b4e-3c90-4ada-d7fe-4144da307ab5"
      },
      "execution_count": 9,
      "outputs": [
        {
          "output_type": "stream",
          "name": "stdout",
          "text": [
            "data/\n",
            "data/train.jsonl\n",
            "data/test.tables.jsonl\n",
            "data/test.db\n",
            "data/dev.tables.jsonl\n",
            "data/dev.db\n",
            "data/test.jsonl\n",
            "data/train.tables.jsonl\n",
            "data/train.db\n",
            "data/dev.jsonl\n"
          ]
        }
      ]
    },
    {
      "cell_type": "code",
      "source": [
        "!python \"/content/Seq2SQL--Natural-Language-sentences-to-SQL-Queries-master/preprocess.py\""
      ],
      "metadata": {
        "colab": {
          "base_uri": "https://localhost:8080/"
        },
        "id": "MKESUSM51Zms",
        "outputId": "023802f8-bd3b-4f89-e781-b0a641439422"
      },
      "execution_count": 22,
      "outputs": [
        {
          "output_type": "stream",
          "name": "stdout",
          "text": [
            "Traceback (most recent call last):\n",
            "\n",
            "\n",
            "During handling of the above exception, another exception occurred:\n",
            "\n",
            "Traceback (most recent call last):\n",
            "  File \"/content/Seq2SQL--Natural-Language-sentences-to-SQL-Queries-master/preprocess.py\", line 7, in <module>\n",
            "    data_converter.build_tokenized_dataset(\"train\")\n",
            "  File \"/content/Seq2SQL--Natural-Language-sentences-to-SQL-Queries-master/util/DataConversionUtil.py\", line 86, in build_tokenized_dataset\n",
            "    line[\"tokenized_query\"] = tokenized_query\n",
            "  File \"/usr/local/lib/python3.7/dist-packages/pandas/core/series.py\", line 1070, in __setitem__\n",
            "    self.loc[key] = value\n",
            "  File \"/usr/local/lib/python3.7/dist-packages/pandas/core/indexing.py\", line 723, in __setitem__\n",
            "    iloc._setitem_with_indexer(indexer, value, self.name)\n",
            "  File \"/usr/local/lib/python3.7/dist-packages/pandas/core/indexing.py\", line 1724, in _setitem_with_indexer\n",
            "    self._setitem_with_indexer_missing(indexer, value)\n",
            "  File \"/usr/local/lib/python3.7/dist-packages/pandas/core/indexing.py\", line 1981, in _setitem_with_indexer_missing\n",
            "    new_index = index.insert(len(index), indexer)\n",
            "  File \"/usr/local/lib/python3.7/dist-packages/pandas/core/indexes/base.py\", line 5987, in insert\n",
            "    item = Index([item], dtype=self.dtype)._values\n",
            "  File \"/usr/local/lib/python3.7/dist-packages/pandas/core/indexes/base.py\", line 484, in __new__\n",
            "    if data and all(isinstance(e, tuple) for e in data):\n",
            "KeyboardInterrupt\n",
            "^C\n"
          ]
        }
      ]
    },
    {
      "cell_type": "code",
      "source": [
        "import nltk"
      ],
      "metadata": {
        "id": "izmPGb0V4b3D"
      },
      "execution_count": 15,
      "outputs": []
    },
    {
      "cell_type": "code",
      "source": [
        " nltk.download('punkt')"
      ],
      "metadata": {
        "colab": {
          "base_uri": "https://localhost:8080/"
        },
        "id": "00F-A9OV5YeJ",
        "outputId": "23f1cc03-3117-45e3-b090-c2a09f668cb8"
      },
      "execution_count": 18,
      "outputs": [
        {
          "output_type": "stream",
          "name": "stderr",
          "text": [
            "[nltk_data] Downloading package punkt to /root/nltk_data...\n",
            "[nltk_data]   Package punkt is already up-to-date!\n"
          ]
        },
        {
          "output_type": "execute_result",
          "data": {
            "text/plain": [
              "True"
            ]
          },
          "metadata": {},
          "execution_count": 18
        }
      ]
    },
    {
      "cell_type": "code",
      "source": [
        "!python \"/content/Seq2SQL--Natural-Language-sentences-to-SQL-Queries-master/main.py\""
      ],
      "metadata": {
        "colab": {
          "base_uri": "https://localhost:8080/"
        },
        "id": "reMwKApZ58_d",
        "outputId": "76a3abbe-ad8b-41dc-8ce9-5a7bdbc79a3f"
      },
      "execution_count": 19,
      "outputs": [
        {
          "output_type": "stream",
          "name": "stdout",
          "text": [
            "Running baseline\n",
            "Reading lines...\n",
            "Traceback (most recent call last):\n",
            "  File \"/content/Seq2SQL--Natural-Language-sentences-to-SQL-Queries-master/main.py\", line 7, in <module>\n",
            "    baseline.run_baseline()\n",
            "  File \"/content/Seq2SQL--Natural-Language-sentences-to-SQL-Queries-master/baseline/baseline.py\", line 175, in run_baseline\n",
            "    lr_best = hyperparam(hidden_size)\n",
            "  File \"/content/Seq2SQL--Natural-Language-sentences-to-SQL-Queries-master/baseline/baseline.py\", line 74, in hyperparam\n",
            "    input_lang, output_lang, pairs = prepareValData(\"en\", \"sql\")\n",
            "  File \"/content/Seq2SQL--Natural-Language-sentences-to-SQL-Queries-master/util/LanguageUtil.py\", line 55, in prepareValData\n",
            "    input_lang, output_lang, pairs = readLangs_val(lang1, lang2)\n",
            "  File \"/content/Seq2SQL--Natural-Language-sentences-to-SQL-Queries-master/util/LanguageUtil.py\", line 71, in readLangs_val\n",
            "    lines = pd.read_json(\"data/tokenized_dev.jsonl\", lines=True)\n",
            "  File \"/usr/local/lib/python3.7/dist-packages/pandas/util/_decorators.py\", line 207, in wrapper\n",
            "    return func(*args, **kwargs)\n",
            "  File \"/usr/local/lib/python3.7/dist-packages/pandas/util/_decorators.py\", line 311, in wrapper\n",
            "    return func(*args, **kwargs)\n",
            "  File \"/usr/local/lib/python3.7/dist-packages/pandas/io/json/_json.py\", line 614, in read_json\n",
            "    return json_reader.read()\n",
            "  File \"/usr/local/lib/python3.7/dist-packages/pandas/io/json/_json.py\", line 746, in read\n",
            "    obj = self._get_object_parser(self._combine_lines(data_lines))\n",
            "  File \"/usr/local/lib/python3.7/dist-packages/pandas/io/json/_json.py\", line 770, in _get_object_parser\n",
            "    obj = FrameParser(json, **kwargs).parse()\n",
            "  File \"/usr/local/lib/python3.7/dist-packages/pandas/io/json/_json.py\", line 885, in parse\n",
            "    self._parse_no_numpy()\n",
            "  File \"/usr/local/lib/python3.7/dist-packages/pandas/io/json/_json.py\", line 1140, in _parse_no_numpy\n",
            "    loads(json, precise_float=self.precise_float), dtype=None\n",
            "ValueError: Expected object or value\n"
          ]
        }
      ]
    },
    {
      "cell_type": "code",
      "source": [],
      "metadata": {
        "id": "027bcEb46GOM"
      },
      "execution_count": null,
      "outputs": []
    }
  ]
}